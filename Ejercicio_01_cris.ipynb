{
  "cells": [
    {
      "cell_type": "markdown",
      "metadata": {
        "id": "view-in-github",
        "colab_type": "text"
      },
      "source": [
        "<a href=\"https://colab.research.google.com/github/Balgem/mds/blob/main/Ejercicio_01_cris.ipynb\" target=\"_parent\"><img src=\"https://colab.research.google.com/assets/colab-badge.svg\" alt=\"Open In Colab\"/></a>"
      ]
    },
    {
      "cell_type": "markdown",
      "metadata": {
        "id": "jRwh9pUmKUiF"
      },
      "source": [
        "<h2>Ejercicio 01 - Machine Learning</h2>\n",
        "<p>Descripción de los datos:\n",
        "<ul>\n",
        "<li>CRIM: Tasa de delincuencia per cápita por ciudad</li>\n",
        "<li>ZN: Proporción de suelo residencial zonificado para lotes de más de 25.000 pies cuadrados.</li>\n",
        "<li>INDUS: Proporción de acres comerciales no minoristas por ciudad.</li>\n",
        "<li>CHAS: Charles River variable ficticia (1 si el tramo colinda con el río; 0 en caso contrario)</li>\n",
        "<li>NOX: Concentración de óxidos nítricos (partes por 10 millones)</li>\n",
        "<li>RM: Número promedio de habitaciones por vivienda</li>\n",
        "<li>AGE: Proporción de unidades ocupadas por sus propietarios construidas antes de 1940.</li>\n",
        "<li>DIS: Distancias ponderadas a cinco centros de empleo de Boston.</li>\n",
        "<li>RAD: Índice de accesibilidad a las autopistas radiales.</li>\n",
        "<li>TAX: Tipo del impuesto sobre bienes inmuebles de valor íntegro por 10.000 dólares.</li>\n",
        "<li>PTRATIO: Proporción alumnos-profesor por ciudad.</li>\n",
        "<li>B - 1000(Bk - 0.63)^2 donde Bk es la proporción de población afrodescendiente por ciudad.</li>\n",
        "<li>LSTAT - % estratos inferiores de la población.</li>\n",
        "<li>MEDV - Valor medio de las viviendas ocupadas por sus propietarios en miles de dólares</li>\n",
        "\n",
        "<p>Puntos a realizar:\n",
        "<ol>\n",
        "<li>Detección de missing values, si los hay, trátelos.</li>\n",
        "<li>Detección de outliers, si los hay, elimínelos.</li>\n",
        "<li>Dividir el dataset en dos sets, uno de entrenamiento y uno de testeo.</li>\n",
        "<li>Cálcular los coeficientes de correlación.</li>\n",
        "<li>Realizar una selección de las variables, mediante el método \"forward selection\".</li> \n",
        "<li>Ocupe test de Fisher si es necesario.</li>\n",
        "<li>Evaluar la precisión del modelo sobre los datos de testeo.</li>\n",
        "</ol>\n",
        "</p>"
      ]
    },
    {
      "cell_type": "code",
      "execution_count": null,
      "metadata": {
        "id": "_tHtJxrBKUiJ"
      },
      "outputs": [],
      "source": []
    }
  ],
  "metadata": {
    "hide_input": false,
    "kernelspec": {
      "display_name": "Python 3",
      "language": "python",
      "name": "python3"
    },
    "language_info": {
      "codemirror_mode": {
        "name": "ipython",
        "version": 3
      },
      "file_extension": ".py",
      "mimetype": "text/x-python",
      "name": "python",
      "nbconvert_exporter": "python",
      "pygments_lexer": "ipython3",
      "version": "3.8.8"
    },
    "toc": {
      "base_numbering": 1,
      "nav_menu": {},
      "number_sections": true,
      "sideBar": true,
      "skip_h1_title": false,
      "title_cell": "Table of Contents",
      "title_sidebar": "Contents",
      "toc_cell": false,
      "toc_position": {},
      "toc_section_display": true,
      "toc_window_display": false
    },
    "colab": {
      "provenance": [],
      "include_colab_link": true
    }
  },
  "nbformat": 4,
  "nbformat_minor": 0
}